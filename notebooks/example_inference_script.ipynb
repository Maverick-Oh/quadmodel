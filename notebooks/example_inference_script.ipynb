{
 "cells": [
  {
   "cell_type": "code",
   "execution_count": 1,
   "metadata": {},
   "outputs": [],
   "source": [
    "from quadmodel.inference.forward_model import forward_model\n",
    "import os\n",
    "import numpy as np\n",
    "import matplotlib.pyplot as plt"
   ]
  },
  {
   "cell_type": "markdown",
   "metadata": {},
   "source": [
    "### Forward modeling image flux ratios with quadmodel\n",
    "\n",
    "In the following cell, we define the parameters we want to sample in the forward model, and set the lens data class"
   ]
  },
  {
   "cell_type": "code",
   "execution_count": 11,
   "metadata": {},
   "outputs": [
    {
     "name": "stdout",
     "output_type": "stream",
     "text": [
      "[0.88  1.    0.474 0.025]\n"
     ]
    }
   ],
   "source": [
    "output_path = os.getcwd() + '/example_inference_output/'\n",
    "job_index = 1\n",
    "n_keep = 2\n",
    "summary_statistic_tolerance = 1e4\n",
    "lens_data = 'B1422'\n",
    "from quadmodel.data.b1422 import B1422\n",
    "lens_data = B1422()\n",
    "print(lens_data.m)\n",
    "realization_priors = {}\n",
    "realization_priors['PRESET_MODEL'] = 'WDM'\n",
    "realization_priors['sigma_sub'] = ['UNIFORM', 0.0, 0.1]\n",
    "realization_priors['LOS_normalization'] = ['FIXED', 1.]\n",
    "realization_priors['log_mc'] = ['UNIFORM', 4.8, 10.0]\n",
    "realization_priors['log_m_host'] = ['FIXED', 13.3]"
   ]
  },
  {
   "cell_type": "markdown",
   "metadata": {},
   "source": [
    "### Run the simulation"
   ]
  },
  {
   "cell_type": "code",
   "execution_count": 12,
   "metadata": {
    "scrolled": false
   },
   "outputs": [
    {
     "name": "stdout",
     "output_type": "stream",
     "text": [
      "reading output to files: \n",
      "/Users/danielgilman/Code/quadmodel/notebooks/example_inference_output/job_1/parameters.txt\n",
      "/Users/danielgilman/Code/quadmodel/notebooks/example_inference_output/job_1/fluxes.txt\n",
      "starting with 0 samples accepted, 2 remain\n",
      "existing magnifications:  None\n",
      "samples remaining:  2\n",
      "realization contains 755 halos.\n",
      "realization parameter array:  [0.03624172 6.81899495]\n",
      "source/lens parameters:  42.99272289352645\n",
      "['gamma', 'gamma_ext', 'a4']\n",
      "macromodel samples:  [ 1.99791698  0.27825898 -0.00689986]\n",
      "optimization 1\n",
      "aperture size:  100\n",
      "minimum mass in aperture:  7.0\n",
      "minimum global mass:  7.0\n",
      "N foreground halos:  11\n",
      "N subhalos:  71\n",
      "10\n",
      "20\n",
      "30\n",
      "40\n",
      "PSO done... \n",
      "source plane chi^2:  76172.59591526724\n",
      "total chi^2:  76172.59591526724\n",
      "starting amoeba... \n",
      "optimization done.\n",
      "Recovered source position:  (array([-0.37276598, -0.37276608, -0.37276614, -0.37276602]), array([0.27269282, 0.27269302, 0.27269298, 0.27269309]))\n",
      "optimization 2\n",
      "aperture size:  0.2\n",
      "minimum mass in aperture:  -0.0\n",
      "minimum global mass:  7.0\n",
      "N foreground halos:  11\n",
      "N subhalos:  82\n",
      "optimization 1\n",
      "nhalos:  151\n",
      "aperture size:  100\n",
      "minimum mass in aperture:  7.0\n",
      "minimum global mass:  7.0\n",
      "N foreground halos:  11\n",
      "N subhalos:  82\n",
      "N background halos:  140\n",
      "starting amoeba... \n",
      "optimization done.\n",
      "Recovered source position:  (array([-0.36585667, -0.36585665, -0.36585645, -0.36585672]), array([0.28067208, 0.28067206, 0.28067206, 0.28067196]))\n",
      "optimization 2\n",
      "nhalos:  202\n",
      "aperture size:  0.2\n",
      "minimum mass in aperture:  0\n",
      "minimum global mass:  7.0\n",
      "N foreground halos:  11\n",
      "N subhalos:  82\n",
      "N background halos:  191\n",
      "starting amoeba... \n",
      "optimization done.\n",
      "Recovered source position:  (array([-0.36578729, -0.36578736, -0.36578722, -0.36578744]), array([0.28069362, 0.28069359, 0.28069354, 0.28069344]))\n",
      "flux ratios data:  [1.1363636363636365, 0.5386363636363636]\n",
      "flux ratios model:  [1.343165892254359, 0.5712376408738695]\n",
      "statistic:  0.20935619484268578\n",
      "N_kept:  1\n",
      "N remaining:  1\n",
      "accepeted realizations counter:  1\n",
      "readout steps:  2\n",
      "realization contains 2023 halos.\n",
      "realization parameter array:  [0.06101341 5.87925255]\n",
      "source/lens parameters:  57.01614660432072\n",
      "['gamma', 'gamma_ext', 'a4']\n",
      "macromodel samples:  [1.99547918 0.27370959 0.00789581]\n",
      "optimization 1\n",
      "aperture size:  100\n",
      "minimum mass in aperture:  7.0\n",
      "minimum global mass:  7.0\n",
      "N foreground halos:  13\n",
      "N subhalos:  105\n",
      "10\n",
      "20\n",
      "30\n",
      "40\n",
      "50\n",
      "60\n",
      "70\n",
      "80\n",
      "PSO done... \n",
      "source plane chi^2:  79923.39533608226\n",
      "total chi^2:  79923.39533608226\n",
      "starting amoeba... \n",
      "optimization done.\n",
      "Recovered source position:  (array([-0.3746021 , -0.37460198, -0.37460195, -0.37460191]), array([0.26012109, 0.260121  , 0.26012118, 0.26012098]))\n",
      "optimization 2\n",
      "aperture size:  0.2\n",
      "minimum mass in aperture:  -0.0\n",
      "minimum global mass:  7.0\n",
      "N foreground halos:  13\n",
      "N subhalos:  133\n",
      "optimization 1\n",
      "nhalos:  212\n",
      "aperture size:  100\n",
      "minimum mass in aperture:  7.0\n",
      "minimum global mass:  7.0\n",
      "N foreground halos:  13\n",
      "N subhalos:  133\n",
      "N background halos:  199\n",
      "starting amoeba... \n",
      "optimization done.\n",
      "Recovered source position:  (array([-0.37677613, -0.37677632, -0.37677622, -0.37677631]), array([0.25784265, 0.25784286, 0.2578427 , 0.25784266]))\n",
      "optimization 2\n",
      "nhalos:  382\n",
      "aperture size:  0.2\n",
      "minimum mass in aperture:  0\n",
      "minimum global mass:  7.0\n",
      "N foreground halos:  13\n",
      "N subhalos:  133\n",
      "N background halos:  369\n",
      "starting amoeba... \n",
      "optimization done.\n",
      "Recovered source position:  (array([-0.37641066, -0.3764107 , -0.37641079, -0.37641071]), array([0.25825349, 0.25825343, 0.25825328, 0.25825356]))\n",
      "flux ratios data:  [1.1363636363636365, 0.5386363636363636]\n",
      "flux ratios model:  [1.240135004812604, 0.6238923083534916]\n",
      "statistic:  0.13430217056839172\n",
      "N_kept:  2\n",
      "N remaining:  0\n",
      "accepeted realizations counter:  2\n",
      "readout steps:  2\n",
      "\n",
      "SIMULATION FINISHED\n"
     ]
    }
   ],
   "source": [
    "forward_model(output_path, job_index, lens_data, n_keep, realization_priors, tolerance=summary_statistic_tolerance,\n",
    "                  verbose=True, test_mode=False)"
   ]
  },
  {
   "cell_type": "markdown",
   "metadata": {
    "scrolled": false
   },
   "source": [
    "### Examine the output\n",
    "\n",
    "The simulation output includes files named fluxes.txt, parameters.txt, and simulation_output_1, simulation_output_2, etc."
   ]
  },
  {
   "cell_type": "code",
   "execution_count": 13,
   "metadata": {},
   "outputs": [
    {
     "name": "stdout",
     "output_type": "stream",
     "text": [
      "PARAMETER NAMES:\n",
      "sigma_sub log_mc source_size_pc gamma gamma_ext a4 summary_statistic \n",
      "\n",
      "ACCEPTED PARAMETERS:\n",
      "[[ 3.6242000e-02  6.8189950e+00  4.2992723e+01  1.9979170e+00\n",
      "   2.7825900e-01 -6.9000000e-03  2.0935600e-01]\n",
      " [ 6.1013000e-02  5.8792530e+00  5.7016147e+01  1.9954790e+00\n",
      "   2.7371000e-01  7.8960000e-03  1.3430200e-01]]\n",
      "\n",
      "ACCEPTED MAGNIFICATIONS:\n",
      "[[0.734249 1.       0.428369 0.036135]\n",
      " [0.79005  1.       0.482185 0.049506]]\n"
     ]
    }
   ],
   "source": [
    "f = open(output_path + 'job_'+str(job_index)+'/parameters.txt', 'r')\n",
    "param_names = f.readlines()[0]\n",
    "print('PARAMETER NAMES:')\n",
    "print(param_names)\n",
    "f.close()\n",
    "\n",
    "accepeted_parameters = np.loadtxt(output_path + 'job_'+str(job_index)+'/parameters.txt', skiprows=1)\n",
    "print('ACCEPTED PARAMETERS:')\n",
    "print(accepeted_parameters)\n",
    "# the first set of parameters are the ones specified in kwargs_realization (see cell #2), the rest are the source size, \n",
    "# macromodel parameters, and the last parameter is the summary statistic\n",
    "\n",
    "accepeted_mags = np.loadtxt(output_path + 'job_'+str(job_index)+'/fluxes.txt')\n",
    "print('\\nACCEPTED MAGNIFICATIONS:')\n",
    "print(accepeted_mags)"
   ]
  },
  {
   "cell_type": "markdown",
   "metadata": {},
   "source": [
    "### Visualize accepeted realizations\n",
    "\n",
    "The pickeled classes in simulation_output allow you to visualize the accepeted realizations"
   ]
  },
  {
   "cell_type": "code",
   "execution_count": 16,
   "metadata": {},
   "outputs": [],
   "source": [
    "import pickle\n",
    "f = open(output_path + 'job_'+str(job_index)+'/simulation_output_1', 'rb')\n",
    "simulation_output = pickle.load(f)\n",
    "x_image, y_image = simulation_output.data.x, simulation_output.data.y\n",
    "lens_system = simulation_output.lens_system\n",
    "\n",
    "npix = 150\n",
    "rminmax = 1.25\n",
    "_r = np.linspace(-rminmax, rminmax, npix)\n",
    "xx, yy = np.meshgrid(_r, _r)\n",
    "shape0 = xx.shape\n",
    "lensmodel, kwargs_lens = lens_system.get_lensmodel()\n",
    "lensmodel_macro, kwargs_macro = lens_system.get_lensmodel(include_substructure=False)\n",
    "\n",
    "kappa = lensmodel.kappa(xx.ravel(), yy.ravel(), kwargs_lens).reshape(shape0)\n",
    "kappa_macro = lensmodel_macro.kappa(xx.ravel(), yy.ravel(), kwargs_lens).reshape(shape0)"
   ]
  },
  {
   "cell_type": "code",
   "execution_count": 17,
   "metadata": {},
   "outputs": [
    {
     "data": {
      "image/png": "[encoded data removed]",
      "text/plain": [
       "<Figure size 576x576 with 1 Axes>"
      ]
     },
     "metadata": {},
     "output_type": "display_data"
    },
    {
     "data": {
      "image/png": "[encoded data removed]",
      "text/plain": [
       "<Figure size 1152x432 with 4 Axes>"
      ]
     },
     "metadata": {},
     "output_type": "display_data"
    }
   ],
   "source": [
    "import matplotlib.pyplot as plt\n",
    "\n",
    "vminmax = 0.05\n",
    "kappa_subs_nonlinear = kappa - kappa_macro\n",
    "extent = [-rminmax, rminmax, -rminmax, rminmax]\n",
    "\n",
    "fig = plt.figure(1)\n",
    "fig.set_size_inches(8, 8)\n",
    "plt.imshow(kappa_subs_nonlinear, vmin=-vminmax, vmax=vminmax, origin='lower', cmap='bwr', \n",
    "           extent=extent)\n",
    "plt.scatter(x_image, y_image, color='k')\n",
    "plt.show()\n",
    "\n",
    "source_size_pc = accepeted_parameters[0, 4]\n",
    "lens_system.plot_images(x_image, y_image, source_size_pc, lensmodel, kwargs_lens)"
   ]
  },
  {
   "cell_type": "markdown",
   "metadata": {},
   "source": [
    "Using the plot_images routine in lens_system, you can also ray trace through the lens system to see what the images look like (or how they would look with an ridiculously large telescope and no PSF) "
   ]
  },
  {
   "cell_type": "code",
   "execution_count": null,
   "metadata": {},
   "outputs": [],
   "source": []
  }
 ],
 "metadata": {
  "kernelspec": {
   "display_name": "Python 3",
   "language": "python",
   "name": "python3"
  },
  "language_info": {
   "codemirror_mode": {
    "name": "ipython",
    "version": 3
   },
   "file_extension": ".py",
   "mimetype": "text/x-python",
   "name": "python",
   "nbconvert_exporter": "python",
   "pygments_lexer": "ipython3",
   "version": "3.6.5"
  }
 },
 "nbformat": 4,
 "nbformat_minor": 2
}
