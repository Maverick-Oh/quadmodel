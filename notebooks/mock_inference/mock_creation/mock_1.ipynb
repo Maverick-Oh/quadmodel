{
 "cells": [
  {
   "cell_type": "code",
   "execution_count": 1,
   "metadata": {},
   "outputs": [],
   "source": [
    "import numpy as np\n",
    "np.random.seed(1111)\n",
    "\n",
    "import matplotlib.pyplot as plt\n",
    "from lenstronomy.LensModel.lens_model import LensModel\n",
    "from lenstronomy.LensModel.Solver.lens_equation_solver import LensEquationSolver\n",
    "from pyHalo.preset_models import CDM\n",
    "import matplotlib.pyplot as plt\n",
    "from quadmodel.quad_model import QuadLensSystem\n",
    "from quadmodel.macromodel import MacroLensModel\n",
    "from quadmodel.deflector_models.preset_macromodels import EPLShear"
   ]
  },
  {
   "cell_type": "code",
   "execution_count": 2,
   "metadata": {},
   "outputs": [
    {
     "name": "stdout",
     "output_type": "stream",
     "text": [
      "[0.54917706 0.88671991 1.         0.19127916]\n"
     ]
    },
    {
     "data": {
      "image/png": "[encoded data removed]",
      "text/plain": [
       "<Figure size 432x288 with 1 Axes>"
      ]
     },
     "metadata": {},
     "output_type": "display_data"
    }
   ],
   "source": [
    "lens_model_list_macro = ['EPL','SHEAR']\n",
    "kwargs_macro = [{'theta_E': 1.0, 'center_x': 0.0, 'center_y': 0.0, 'e1': 0.05, 'e2': 0.1,'gamma':2.0},\n",
    "                {'gamma1': 0.03,'gamma2':-0.07}]\n",
    "zlens, z_source = 0.5, 2.0\n",
    "lm_macro = LensModel(lens_model_list_macro)\n",
    "source_x, source_y = 0.13, 0.1\n",
    "solver = LensEquationSolver(lm_macro)\n",
    "x_image, y_image = solver.image_position_from_source(source_x, source_y, kwargs_macro)  \n",
    "mag = np.absolute(lm_macro.magnification(x_image, y_image, kwargs_macro))\n",
    "mag = np.absolute(mag)/np.max(mag)\n",
    "print(mag)\n",
    "plt.scatter(x_image, y_image)\n",
    "plt.xlim(-1.5, 1.5)\n",
    "plt.ylim(-1.5, 1.5)\n",
    "\n",
    "class Data(object):\n",
    "    x = x_image\n",
    "    y = y_image\n",
    "data = Data()"
   ]
  },
  {
   "cell_type": "code",
   "execution_count": 3,
   "metadata": {},
   "outputs": [],
   "source": [
    "gamma_macro = 2.0\n",
    "gamma_macro = kwargs_macro[0]['gamma']\n",
    "shear_amp = np.sqrt(kwargs_macro[1]['gamma1']**2 + kwargs_macro[1]['gamma2']**2)\n",
    "model = EPLShear(zlens, gamma_macro, shear_amp)\n",
    "macromodel = MacroLensModel(model.component_list)\n",
    "quad = QuadLensSystem(macromodel, z_source)\n",
    "quad.initialize(data)\n",
    "lm_fit, kw_fit = quad.get_lensmodel()"
   ]
  },
  {
   "cell_type": "code",
   "execution_count": 4,
   "metadata": {},
   "outputs": [
    {
     "data": {
      "image/png": "[encoded data removed]",
      "text/plain": [
       "<Figure size 1152x432 with 4 Axes>"
      ]
     },
     "metadata": {},
     "output_type": "display_data"
    }
   ],
   "source": [
    "quad.plot_images(x_image, y_image, 50.0, lm_fit, kw_fit)"
   ]
  },
  {
   "cell_type": "code",
   "execution_count": 5,
   "metadata": {},
   "outputs": [],
   "source": [
    "cdm = CDM(0.5, 2.0, sigma_sub=0.06, LOS_normalization=1.0, log_m_host=13.3, log_mlow=6.0)\n",
    "lens_model_list_halos, redshift_list_halos, kw_halos, _ = cdm.lensing_quantities()\n",
    "kw_full = kwargs_macro + kw_halos\n",
    "lm = LensModel(lens_model_list_macro + lens_model_list_halos, lens_redshift_list=[0.5]*2 + list(redshift_list_halos),\n",
    "              multi_plane=True, z_source=z_source)\n",
    "leq = LensEquationSolver(lm)\n",
    "x_image_sub, y_image_sub = leq.image_position_from_source(source_x, source_y, kw_full)"
   ]
  },
  {
   "cell_type": "code",
   "execution_count": 8,
   "metadata": {},
   "outputs": [
    {
     "name": "stdout",
     "output_type": "stream",
     "text": [
      "array([ 1.11479788, -0.08983757,  0.55698859, -0.56995511])\n",
      "array([-0.29678043,  1.06137241,  0.86675635, -0.47237552])\n",
      "[4.34745912 7.07745293 9.01834417 1.69859453]\n",
      "[0.48206844 0.78478408 1.         0.18834882]\n"
     ]
    },
    {
     "data": {
      "image/png": "[encoded data removed]",
      "text/plain": [
       "<Figure size 432x288 with 1 Axes>"
      ]
     },
     "metadata": {},
     "output_type": "display_data"
    }
   ],
   "source": [
    "plt.scatter(x_image, y_image)\n",
    "plt.xlim(-1.5, 1.5)\n",
    "plt.ylim(-1.5, 1.5)\n",
    "\n",
    "source_size = 40.\n",
    "\n",
    "from lenstronomy.LensModel.lens_model_extensions import LensModelExtensions\n",
    "ext = LensModelExtensions(lm)\n",
    "mag = ext.magnification_finite_adaptive(x_image_sub, y_image_sub, source_x, source_y, \n",
    "                                        kw_full, source_size, z_source)\n",
    "print(repr(x_image_sub))\n",
    "print(repr(y_image_sub))\n",
    "print(mag) \n",
    "print(mag/max(mag))"
   ]
  },
  {
   "cell_type": "code",
   "execution_count": 9,
   "metadata": {},
   "outputs": [
    {
     "name": "stdout",
     "output_type": "stream",
     "text": [
      "0.07615773105863909\n"
     ]
    }
   ],
   "source": [
    "print(np.hypot(0.03, 0.07))"
   ]
  },
  {
   "cell_type": "code",
   "execution_count": 10,
   "metadata": {},
   "outputs": [
    {
     "name": "stdout",
     "output_type": "stream",
     "text": [
      "{'theta_E': 1.0, 'center_x': 0.0, 'center_y': 0.0, 'e1': 0.05, 'e2': 0.1, 'gamma': 2.0}\n"
     ]
    }
   ],
   "source": [
    "print(kw_full[0])"
   ]
  },
  {
   "cell_type": "code",
   "execution_count": 12,
   "metadata": {},
   "outputs": [
    {
     "data": {
      "text/plain": [
       "array([1.        , 1.62795158, 2.07439425, 0.39070971])"
      ]
     },
     "execution_count": 12,
     "metadata": {},
     "output_type": "execute_result"
    }
   ],
   "source": [
    "m=np.array([0.48206844, 0.78478408, 1.,         0.18834882])\n",
    "m/m[0]"
   ]
  },
  {
   "cell_type": "code",
   "execution_count": null,
   "metadata": {},
   "outputs": [],
   "source": []
  }
 ],
 "metadata": {
  "kernelspec": {
   "display_name": "Python 3",
   "language": "python",
   "name": "python3"
  },
  "language_info": {
   "codemirror_mode": {
    "name": "ipython",
    "version": 3
   },
   "file_extension": ".py",
   "mimetype": "text/x-python",
   "name": "python",
   "nbconvert_exporter": "python",
   "pygments_lexer": "ipython3",
   "version": "3.6.5"
  }
 },
 "nbformat": 4,
 "nbformat_minor": 2
}
