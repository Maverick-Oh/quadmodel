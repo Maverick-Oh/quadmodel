{
 "cells": [
  {
   "cell_type": "code",
   "execution_count": null,
   "metadata": {},
   "outputs": [],
   "source": [
    "from quadmodel.inference.forward_model_pbh import forward_model_pbh \n",
    "import os\n",
    "import matplotlib.pyplot as plt"
   ]
  },
  {
   "cell_type": "markdown",
   "metadata": {},
   "source": [
    "### Example inference with primordial black holes\n",
    "\n",
    "The mock data is a lens with the same image positions and lens/source redshifts as B1422, but with the flux ratios given by the smooth model prediction given in Table 3 of Nierenberg et al. (2014) "
   ]
  },
  {
   "cell_type": "code",
   "execution_count": null,
   "metadata": {
    "scrolled": false
   },
   "outputs": [],
   "source": [
    "from quadmodel.data.mock_lenses.mock_b1422 import B1422SmoothModel\n",
    "\n",
    "lens_data_class = B1422SmoothModel()\n",
    "output_path = os.getcwd() + '/smoothmodel_pbh_inference/'\n",
    "job_index = 1\n",
    "n_keep = 100\n",
    "realization_priors = {}\n",
    "realization_priors['PRESET_MODEL'] = 'CDM'\n",
    "realization_priors['sigma_sub'] = ['FIXED', 0.05]\n",
    "realization_priors['LOS_normalization'] = ['FIXED', 1.]\n",
    "realization_priors['log_black_hole_mass'] = ['UNIFORM', 4.0, 6.0]\n",
    "realization_priors['mass_fraction'] = ['FIXED', 0.2]\n",
    "tolerance = 0.05\n",
    "\n",
    "forward_model_pbh(output_path, job_index, lens_data_class, n_keep, realization_priors, tolerance=tolerance,\n",
    "                  verbose=True, readout_steps=2, test_mode=True)\n"
   ]
  },
  {
   "cell_type": "code",
   "execution_count": null,
   "metadata": {},
   "outputs": [],
   "source": []
  },
  {
   "cell_type": "code",
   "execution_count": null,
   "metadata": {},
   "outputs": [],
   "source": []
  },
  {
   "cell_type": "code",
   "execution_count": null,
   "metadata": {},
   "outputs": [],
   "source": []
  }
 ],
 "metadata": {
  "kernelspec": {
   "display_name": "Python 3",
   "language": "python",
   "name": "python3"
  },
  "language_info": {
   "codemirror_mode": {
    "name": "ipython",
    "version": 3
   },
   "file_extension": ".py",
   "mimetype": "text/x-python",
   "name": "python",
   "nbconvert_exporter": "python",
   "pygments_lexer": "ipython3",
   "version": "3.6.5"
  }
 },
 "nbformat": 4,
 "nbformat_minor": 2
}
