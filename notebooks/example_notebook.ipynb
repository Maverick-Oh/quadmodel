{
 "cells": [
  {
   "cell_type": "code",
   "execution_count": 1,
   "metadata": {},
   "outputs": [],
   "source": [
    "from quadmodel.quad_model import QuadLensSystem  \n",
    "from quadmodel.macromodel import MacroLensModel\n",
    "from quadmodel.deflector_models.sis import SIS\n",
    "from quadmodel.Solvers.hierachical import HierarchicalOptimization\n",
    "from quadmodel.Solvers.brute import BruteOptimization\n",
    "from quadmodel.deflector_models.preset_macromodels import EPLShearMultipole\n",
    "\n",
    "from pyHalo.single_realization import SingleHalo\n",
    "\n",
    "from lenstronomy.LensModel.lens_model import LensModel\n",
    "from lenstronomy.LensModel.Solver.lens_equation_solver import LensEquationSolver\n",
    "from lenstronomy.LensModel.lens_model_extensions import LensModelExtensions\n",
    "\n",
    "from pyHalo.preset_models import CDM\n",
    "from copy import deepcopy\n",
    "import numpy as np\n",
    "import matplotlib.pyplot as plt"
   ]
  },
  {
   "cell_type": "markdown",
   "metadata": {},
   "source": [
    "### Create some mock data"
   ]
  },
  {
   "cell_type": "code",
   "execution_count": 2,
   "metadata": {},
   "outputs": [
    {
     "name": "stdout",
     "output_type": "stream",
     "text": [
      "[0.63089855 0.86377857 1.         0.18266985]\n"
     ]
    },
    {
     "data": {
      "image/png": "[encoded data removed]",
      "text/plain": [
       "<Figure size 432x288 with 1 Axes>"
      ]
     },
     "metadata": {},
     "output_type": "display_data"
    }
   ],
   "source": [
    "z_lens = 0.5\n",
    "z_source = 2.0\n",
    "lens_model_macro = LensModel(['EPL','SHEAR'])\n",
    "kwargs_macro = [{'theta_E': 1.0, 'center_x': 0.0, 'center_y': 0.0, 'e1': 0.2, 'e2': 0.1, 'gamma':2.0},\n",
    "                {'gamma1': 0.05, 'gamma2':-0.01}]\n",
    "solver = LensEquationSolver(lens_model_macro)\n",
    "ext = LensModelExtensions(lens_model_macro)\n",
    "source_x, source_y = 0.14 , 0.05\n",
    "x_image, y_image = solver.image_position_from_source(source_x, source_y, kwargs_macro)\n",
    "plt.scatter(x_image, y_image)\n",
    "\n",
    "source_size_parsec = 50.\n",
    "magnifications = ext.magnification_finite_adaptive(x_image, y_image, source_x, source_y, kwargs_macro, source_size_parsec, z_source)\n",
    "fluxes = magnifications/max(magnifications)\n",
    "print(fluxes)\n",
    "plt.xlim(-1.5,1.5)\n",
    "plt.ylim(-1.5,1.5)\n",
    "\n",
    "class Data(object):\n",
    "    def __init__(self, x, y, fluxes):\n",
    "        self.x = x\n",
    "        self.y = y\n",
    "        self.m = fluxes\n",
    "        \n",
    "data = Data(x_image, y_image, fluxes)\n"
   ]
  },
  {
   "cell_type": "markdown",
   "metadata": {},
   "source": [
    "### First set up the lens model and create the population of dark matter halos with pyHalo\n",
    "\n",
    "You can pass several keyword arguments into the CDM function that affect the number and abundance of dark matter halos generated. In particular, the parameter sigma_sub determines the number of subhalos around the lensing galaxy, and the parameter delta_power_law_index changes the slope of the halo mass function."
   ]
  },
  {
   "cell_type": "code",
   "execution_count": 46,
   "metadata": {},
   "outputs": [
    {
     "name": "stdout",
     "output_type": "stream",
     "text": [
      "realization contains 1 halos\n",
      "(['TNFW'], [0.5], [{'alpha_Rs': 1.72931e-05, 'Rs': 0.0116613737, 'center_x': 1.0118, 'center_y': 0.4371, 'r_trunc': 0.2009938893867292}], None)\n"
     ]
    }
   ],
   "source": [
    "#realization = CDM(zlens, zsource, sigma_sub=sigma_sub, delta_power_law_index=delta_power_law_index)\n",
    "halo_mass = 10 ** 5.5\n",
    "halo_x = x_image[2] + 0.0\n",
    "halo_y = y_image[2] + 0.02\n",
    "\n",
    "single_halo_realization = SingleHalo(halo_mass, halo_x, halo_y, 'TNFW', z_lens, z_lens, z_source)\n",
    "print('realization contains '+str(len(single_halo_realization.halos))+' halos')\n",
    "# Can optionally turn off halos\n",
    "print(single_halo_realization.lensing_quantities())\n",
    "#single_halo_realization = None\n",
    "\n",
    "main_lens_fit = EPLShearMultipole(z_lens, gamma_macro=2.0, shear_amplitude=0.05, multipole_amplitude=-0.0,\n",
    "                                 r_ein_approx=1.0, center_x=0.0, center_y=0.0, e1=0.1, e2=0.2)\n",
    "macromodel = MacroLensModel(main_lens_fit.component_list)\n",
    "#lens_system = QuadLensSystem.shift_background_auto(data, macromodel, zsource, single_halo_realization)\n",
    "\n",
    "# Note, when using a single_halo lens model, don't use the shift_background_auto method to create the class\n",
    "lens_system = QuadLensSystem(macromodel, z_source, single_halo_realization)"
   ]
  },
  {
   "cell_type": "markdown",
   "metadata": {},
   "source": [
    "### Fit a lens model\n",
    "\n",
    "Now we adjust the parameters describing the mass profile of the main deflector (\"kwargs_macromodel\") so that we get a lens system with the same image positions as in the data with the halos included in the lens model."
   ]
  },
  {
   "cell_type": "code",
   "execution_count": null,
   "metadata": {
    "scrolled": false
   },
   "outputs": [
    {
     "name": "stdout",
     "output_type": "stream",
     "text": [
      "optimization 1\n",
      "aperture size:  100\n",
      "minimum mass in aperture:  7.0\n",
      "minimum global mass:  7.0\n",
      "N foreground halos:  0\n",
      "N subhalos:  0\n",
      "10\n",
      "20\n",
      "30\n",
      "40\n",
      "50\n",
      "60\n",
      "70\n",
      "80\n",
      "90\n",
      "100\n",
      "110\n",
      "120\n",
      "130\n",
      "140\n",
      "150\n",
      "160\n",
      "170\n",
      "180\n",
      "190\n",
      "200\n",
      "210\n",
      "220\n",
      "230\n",
      "240\n",
      "250\n",
      "260\n",
      "270\n",
      "280\n",
      "290\n",
      "300\n",
      "310\n",
      "320\n",
      "330\n",
      "340\n",
      "350\n",
      "Max iteration reached! Stopping.\n",
      "PSO done... \n",
      "source plane chi^2:  141926.7045050466\n",
      "total chi^2:  141926.7045050466\n",
      "starting amoeba... \n"
     ]
    }
   ],
   "source": [
    "verbose = True # verbose controls how much stuff gets printed to screen\n",
    "# this will print the output from the fitting process. Set it to False to save space if you want\n",
    "optimizer = HierarchicalOptimization(lens_system)\n",
    "kwargs_lens_final, lens_model_full, return_kwargs = optimizer.optimize(data, constrain_params=None,\n",
    "                                                   param_class_name='free_shear_powerlaw',\n",
    "                                                                       verbose=verbose)\n",
    "print(kwargs_lens_final)"
   ]
  },
  {
   "cell_type": "markdown",
   "metadata": {},
   "source": [
    "### Compute the flux ratios\n",
    "\n",
    "With the full lens model, we can compute the flux ratios for any background source model we want. Below, we can compute the flux ratios for two different source sizes. When halos are present near an image, the flux ratios should be a function of the source size. "
   ]
  },
  {
   "cell_type": "code",
   "execution_count": null,
   "metadata": {
    "scrolled": false
   },
   "outputs": [],
   "source": [
    "lensmodel, kwargs = lens_system.get_lensmodel()\n",
    "print(kwargs)\n",
    "source_size_small = 1. # parsec\n",
    "flux_ratios_small_source = lens_system.quasar_magnification(data.x, \n",
    "                                     data.y, source_size_small, lens_model=lensmodel, \n",
    "                                   kwargs_lensmodel=kwargs, grid_axis_ratio=0.5, \n",
    "                                   grid_resolution_rescale=2., source_model='GAUSSIAN')\n",
    "\n",
    "source_size_large = 45 # parsec\n",
    "flux_ratios_large_source = lens_system.quasar_magnification(data.x, \n",
    "                                     data.y, source_size_large, lens_model=lensmodel, \n",
    "                                   kwargs_lensmodel=kwargs, grid_axis_ratio=0.5, \n",
    "                                   grid_resolution_rescale=2., source_model='GAUSSIAN')\n",
    "\n",
    "print(flux_ratios_small_source)\n",
    "print(flux_ratios_large_source)\n",
    "\n",
    "# This will ray trace through the lens model and plot what the lensed images look like\n",
    "lens_system.plot_images(data.x, data.y, 30., lens_model=lensmodel, \n",
    "                               kwargs_lensmodel=kwargs, source_model='GAUSSIAN',\n",
    "                       grid_resolution_rescale=2.)"
   ]
  },
  {
   "cell_type": "markdown",
   "metadata": {},
   "source": [
    "### Visualize the result\n",
    "\n",
    "We can visualize the lens system created in the model by plotting the image positions and critical curves on top of the effective multiplane convergence from substructure"
   ]
  },
  {
   "cell_type": "code",
   "execution_count": 45,
   "metadata": {},
   "outputs": [
    {
     "name": "stdout",
     "output_type": "stream",
     "text": [
      "{'m': 4, 'a_m': -0.0, 'center_x': 0.0, 'center_y': 0.0, 'phi_m': 5.423067621018816}\n",
      "1.0117594091204167 0.43709669520116934\n"
     ]
    },
    {
     "data": {
      "text/plain": [
       "[<matplotlib.lines.Line2D at 0x7fdd4ae831d0>]"
      ]
     },
     "execution_count": 45,
     "metadata": {},
     "output_type": "execute_result"
    },
    {
     "data": {
      "image/png": "[encoded data removed]",
      "text/plain": [
       "<Figure size 576x576 with 1 Axes>"
      ]
     },
     "metadata": {},
     "output_type": "display_data"
    }
   ],
   "source": [
    "lens_system_smooth = lens_system.get_smooth_lens_system()\n",
    "lensmodel_smooth, kwargs_smooth = lens_system_smooth.get_lensmodel()\n",
    "print(kwargs[2])\n",
    "print(halo_x, halo_y)\n",
    "npix = 150\n",
    "ran = 1.5\n",
    "extension = LensModelExtensions(lensmodel)\n",
    "ra_crit_list, dec_crit_list, ra_caustic_list, dec_caustic_list = extension.critical_curve_caustics(kwargs, \n",
    "                                                             compute_window=2*ran, grid_scale=0.05)\n",
    "\n",
    "\n",
    "_x = np.linspace(-ran, ran, npix)\n",
    "xx, yy = np.meshgrid(_x, _x)\n",
    "shape0 = xx.shape\n",
    "kappa_full = lensmodel.kappa(xx.ravel(), yy.ravel(), kwargs).reshape(shape0)\n",
    "kappa_macro = lensmodel_smooth.kappa(xx.ravel(), yy.ravel(), kwargs_smooth).reshape(shape0)\n",
    "substructure_convergence = kappa_full - kappa_macro\n",
    "\n",
    "fig = plt.figure(1)\n",
    "fig.set_size_inches(8, 8)\n",
    "zero_point = np.mean(substructure_convergence)\n",
    "plt.imshow(substructure_convergence - zero_point, vmin=-0.1, vmax=0.1, cmap='bwr', origin='lower',\n",
    "          extent=[-ran, ran, -ran, ran])\n",
    "plt.scatter(data.x, data.y, color='k', s=40)\n",
    "\n",
    "plt.plot(ra_crit_list[0], dec_crit_list[0], color='k')"
   ]
  },
  {
   "cell_type": "code",
   "execution_count": null,
   "metadata": {},
   "outputs": [],
   "source": []
  },
  {
   "cell_type": "code",
   "execution_count": null,
   "metadata": {},
   "outputs": [],
   "source": []
  }
 ],
 "metadata": {
  "kernelspec": {
   "display_name": "Python 3",
   "language": "python",
   "name": "python3"
  },
  "language_info": {
   "codemirror_mode": {
    "name": "ipython",
    "version": 3
   },
   "file_extension": ".py",
   "mimetype": "text/x-python",
   "name": "python",
   "nbconvert_exporter": "python",
   "pygments_lexer": "ipython3",
   "version": "3.6.5"
  }
 },
 "nbformat": 4,
 "nbformat_minor": 2
}
