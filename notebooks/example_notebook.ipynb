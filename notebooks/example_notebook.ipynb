{
 "cells": [
  {
   "cell_type": "code",
   "execution_count": 12,
   "metadata": {},
   "outputs": [],
   "source": [
    "from quadmodel.quadmodel import QuadLensSystem   \n",
    "from quadmodel.deflector_models.power_law_shear import PowerLawShear\n",
    "from quadmodel.macromodel import MacroLensModel\n",
    "from quadmodel.data import Quad as LensedQuasar\n",
    "from quadmodel.deflector_models.sis import SIS\n",
    "from quadmodel.Solvers.hierachical import HierarchicalOptimization\n",
    "from quadmodel.Solvers.brute import BruteOptimization\n",
    "\n",
    "from pyHalo.single_realization import SingleHalo\n",
    "from lenstronomy.LensModel.lens_model_extensions import LensModelExtensions\n",
    "\n",
    "from pyHalo.preset_models import CDM\n",
    "from copy import deepcopy\n",
    "import numpy as np\n",
    "import matplotlib.pyplot as plt"
   ]
  },
  {
   "cell_type": "markdown",
   "metadata": {},
   "source": [
    "### First set up the lens model and create the population of dark matter halos with pyHalo\n",
    "\n",
    "You can pass several keyword arguments into the CDM function that affect the number and abundance of dark matter halos generated. In particular, the parameter sigma_sub determines the number of subhalos around the lensing galaxy, and the parameter delta_power_law_index changes the slope of the halo mass function."
   ]
  },
  {
   "cell_type": "code",
   "execution_count": 8,
   "metadata": {},
   "outputs": [
    {
     "name": "stdout",
     "output_type": "stream",
     "text": [
      "realization contains 1 halos\n",
      "(['TNFW'], [0.45], [{'alpha_Rs': 0.0007920692, 'Rs': 0.1240870558, 'center_x': -0.347, 'center_y': 0.974, 'r_trunc': 1.5523377104902185}], None)\n"
     ]
    }
   ],
   "source": [
    "zlens = 0.45\n",
    "zsource = 3.69\n",
    "x_image = np.array([-0.347, -0.734, -1.096, 0.207])\n",
    "y_image = np.array([ 0.964,  0.649, -0.079, -0.148])\n",
    "magnifications = np.array([[0.88, 1.,  0.474, 0.025]])\n",
    "data = LensedQuasar(x_image, y_image,  magnifications)\n",
    "\n",
    "sigma_sub = 0.05\n",
    "delta_power_law_index = 0. # 0 means no change to the CDM prediction\n",
    "#realization = CDM(zlens, zsource, sigma_sub=sigma_sub, delta_power_law_index=delta_power_law_index)\n",
    "halo_mass = 10 ** 8\n",
    "halo_x = x_image[0] + 0.0\n",
    "halo_y = y_image[0] + 0.01\n",
    "\n",
    "single_halo_realization = SingleHalo(halo_mass, halo_x, halo_y, 'TNFW', zlens, zlens, zsource)\n",
    "\n",
    "print('realization contains '+str(len(single_halo_realization.halos))+' halos')\n",
    "#print(realization.lensing_quantities())\n",
    "# these parameters describe the main deflector lens model; the way you initialize them is arbitrary\n",
    "kwargs_macromodel = [{'theta_E': 1., 'center_x': 0., 'center_y': -0.0, 'e1': 0.1, 'e2': 0.2, 'gamma': 2.0}, \n",
    "               {'gamma1': 0.0, 'gamma2': 0.0}]\n",
    "\n",
    "main_lens_fit = PowerLawShear(zlens, kwargs_macromodel)\n",
    "macromodel = MacroLensModel([main_lens_fit])\n",
    "#lens_system = QuadLensSystem.shift_background_auto(data, macromodel, zsource, single_halo_realization)\n",
    "\n",
    "# Note, when using a single_halo lens model, don't use the shift_background_auto method to create the class\n",
    "lens_system = QuadLensSystem(macromodel, zsource, single_halo_realization)\n",
    "print(single_halo_realization.lensing_quantities())"
   ]
  },
  {
   "cell_type": "markdown",
   "metadata": {},
   "source": [
    "### Fit a lens model\n",
    "\n",
    "Now we adjust the parameters describing the mass profile of the main deflector (\"kwargs_macromodel\") so that we get a lens system with the same image positions as in the data with the halos included in the lens model."
   ]
  },
  {
   "cell_type": "code",
   "execution_count": 9,
   "metadata": {
    "scrolled": false
   },
   "outputs": [
    {
     "name": "stdout",
     "output_type": "stream",
     "text": [
      "optimization 1\n",
      "aperture size:  100\n",
      "minimum mass in aperture:  7.0\n",
      "minimum global mass:  7.0\n",
      "N foreground halos:  0\n",
      "N subhalos:  1\n",
      "10\n",
      "20\n",
      "30\n",
      "40\n",
      "50\n",
      "60\n",
      "70\n",
      "80\n",
      "90\n",
      "PSO done... \n",
      "source plane chi^2:  77505.97623540548\n",
      "total chi^2:  77505.97623540548\n",
      "starting amoeba... \n",
      "optimization done.\n",
      "Recovered source position:  (array([-0.35027814, -0.3502782 , -0.35027819, -0.3502783 ]), array([0.25579264, 0.25579287, 0.25579268, 0.25579271]))\n",
      "optimization 2\n",
      "aperture size:  0.2\n",
      "minimum mass in aperture:  0.0\n",
      "minimum global mass:  7.0\n",
      "N foreground halos:  0\n",
      "N subhalos:  1\n",
      "optimization 1\n",
      "nhalos:  0\n",
      "aperture size:  100\n",
      "minimum mass in aperture:  7.0\n",
      "minimum global mass:  7.0\n",
      "N foreground halos:  0\n",
      "N subhalos:  1\n",
      "N background halos:  0\n",
      "starting amoeba... \n",
      "optimization done.\n",
      "Recovered source position:  (array([-0.35027814, -0.3502782 , -0.35027819, -0.3502783 ]), array([0.25579264, 0.25579287, 0.25579268, 0.25579271]))\n",
      "optimization 2\n",
      "nhalos:  0\n",
      "aperture size:  0.2\n",
      "minimum mass in aperture:  0\n",
      "minimum global mass:  7.0\n",
      "N foreground halos:  0\n",
      "N subhalos:  1\n",
      "N background halos:  0\n",
      "[{'theta_E': 0.7840470138731763, 'center_x': 0.02223172789436729, 'center_y': -0.019270051312355332, 'e1': 0.09413122463538759, 'e2': -0.13439942339751448, 'gamma': 2.0}, {'gamma1': -0.021299028379722553, 'gamma2': 0.19537015752790765}, {'alpha_Rs': 0.0007920692, 'Rs': 0.1240870558, 'center_x': -0.347, 'center_y': 0.974, 'r_trunc': 1.5523377104902185}]\n"
     ]
    }
   ],
   "source": [
    "verbose = True # verbose controls how much stuff gets printed to screen\n",
    "# this will print the output from the fitting process. Set it to False to save space if you want\n",
    "optimizer = HierarchicalOptimization(lens_system)\n",
    "kwargs_lens_final, lens_model_full, return_kwargs = optimizer.optimize(data, constrain_params=None,\n",
    "                                                   param_class_name='free_shear_powerlaw',\n",
    "                                                                       verbose=verbose)\n",
    "print(kwargs_lens_final)"
   ]
  },
  {
   "cell_type": "markdown",
   "metadata": {},
   "source": [
    "### Compute the flux ratios\n",
    "\n",
    "With the full lens model, we can compute the flux ratios for any background source model we want. Below, we can compute the flux ratios for two different source sizes. When halos are present near an image, the flux ratios should be a function of the source size. "
   ]
  },
  {
   "cell_type": "code",
   "execution_count": 10,
   "metadata": {
    "scrolled": false
   },
   "outputs": [
    {
     "name": "stdout",
     "output_type": "stream",
     "text": [
      "[{'theta_E': 0.7840470138731763, 'center_x': 0.02223172789436729, 'center_y': -0.019270051312355332, 'e1': 0.09413122463538759, 'e2': -0.13439942339751448, 'gamma': 2.0}, {'gamma1': -0.021299028379722553, 'gamma2': 0.19537015752790765}, {'alpha_Rs': 0.0007920692, 'Rs': 0.1240870558, 'center_x': -0.347, 'center_y': 0.974, 'r_trunc': 1.5523377104902185}]\n",
      "[0.9872192  1.         0.48220098 0.0272553 ]\n",
      "[0.89151375 1.         0.47687514 0.02689956]\n"
     ]
    },
    {
     "data": {
      "image/png": "[encoded data removed]",
      "text/plain": [
       "<Figure size 1152x432 with 4 Axes>"
      ]
     },
     "metadata": {},
     "output_type": "display_data"
    }
   ],
   "source": [
    "lensmodel, kwargs = lens_system.get_lensmodel()\n",
    "print(kwargs)\n",
    "source_size_small = 1. # parsec\n",
    "flux_ratios_small_source = lens_system.quasar_magnification(data.x, \n",
    "                                     data.y, source_size_small, lens_model=lensmodel, \n",
    "                                   kwargs_lensmodel=kwargs, grid_axis_ratio=0.5, \n",
    "                                   grid_resolution_rescale=2., source_model='GAUSSIAN')\n",
    "\n",
    "source_size_large = 45 # parsec\n",
    "flux_ratios_large_source = lens_system.quasar_magnification(data.x, \n",
    "                                     data.y, source_size_large, lens_model=lensmodel, \n",
    "                                   kwargs_lensmodel=kwargs, grid_axis_ratio=0.5, \n",
    "                                   grid_resolution_rescale=2., source_model='GAUSSIAN')\n",
    "\n",
    "print(flux_ratios_small_source)\n",
    "print(flux_ratios_large_source)\n",
    "\n",
    "# This will ray trace through the lens model and plot what the lensed images look like\n",
    "lens_system.plot_images(data.x, data.y, source_size_large, lens_model=lensmodel, \n",
    "                               kwargs_lensmodel=kwargs, source_model='GAUSSIAN',\n",
    "                       grid_resolution_rescale=2.)"
   ]
  },
  {
   "cell_type": "markdown",
   "metadata": {},
   "source": [
    "### Visualize the result\n",
    "\n",
    "We can visualize the lens system created in the model by plotting the image positions and critical curves on top of the effective multiplane convergence from substructure"
   ]
  },
  {
   "cell_type": "code",
   "execution_count": 11,
   "metadata": {},
   "outputs": [
    {
     "name": "stdout",
     "output_type": "stream",
     "text": [
      "{'alpha_Rs': 0.0007920692, 'Rs': 0.1240870558, 'center_x': -0.347, 'center_y': 0.974, 'r_trunc': 1.5523377104902185}\n",
      "-0.347 0.974\n"
     ]
    },
    {
     "data": {
      "text/plain": [
       "[<matplotlib.lines.Line2D at 0x7fd5e1b485f8>]"
      ]
     },
     "execution_count": 11,
     "metadata": {},
     "output_type": "execute_result"
    },
    {
     "data": {
      "image/png": "[encoded data removed]",
      "text/plain": [
       "<Figure size 576x576 with 1 Axes>"
      ]
     },
     "metadata": {},
     "output_type": "display_data"
    }
   ],
   "source": [
    "lens_system_smooth = lens_system.get_smooth_lens_system()\n",
    "lensmodel_smooth, kwargs_smooth = lens_system_smooth.get_lensmodel()\n",
    "print(kwargs[2])\n",
    "print(halo_x, halo_y)\n",
    "npix = 150\n",
    "ran = 1.5\n",
    "extension = LensModelExtensions(lensmodel)\n",
    "ra_crit_list, dec_crit_list, ra_caustic_list, dec_caustic_list = extension.critical_curve_caustics(kwargs, \n",
    "                                                             compute_window=2*ran, grid_scale=0.05)\n",
    "\n",
    "\n",
    "_x = np.linspace(-ran, ran, npix)\n",
    "xx, yy = np.meshgrid(_x, _x)\n",
    "shape0 = xx.shape\n",
    "kappa_full = lensmodel.kappa(xx.ravel(), yy.ravel(), kwargs).reshape(shape0)\n",
    "kappa_macro = lensmodel_smooth.kappa(xx.ravel(), yy.ravel(), kwargs_smooth).reshape(shape0)\n",
    "substructure_convergence = kappa_full - kappa_macro\n",
    "\n",
    "fig = plt.figure(1)\n",
    "fig.set_size_inches(8, 8)\n",
    "zero_point = np.mean(substructure_convergence)\n",
    "plt.imshow(substructure_convergence - zero_point, vmin=-0.1, vmax=0.1, cmap='bwr', origin='lower',\n",
    "          extent=[-ran, ran, -ran, ran])\n",
    "plt.scatter(data.x, data.y, color='k', s=40)\n",
    "\n",
    "plt.plot(ra_crit_list[0], dec_crit_list[0], color='k')"
   ]
  },
  {
   "cell_type": "code",
   "execution_count": null,
   "metadata": {},
   "outputs": [],
   "source": []
  },
  {
   "cell_type": "code",
   "execution_count": null,
   "metadata": {},
   "outputs": [],
   "source": []
  }
 ],
 "metadata": {
  "kernelspec": {
   "display_name": "Python 3",
   "language": "python",
   "name": "python3"
  },
  "language_info": {
   "codemirror_mode": {
    "name": "ipython",
    "version": 3
   },
   "file_extension": ".py",
   "mimetype": "text/x-python",
   "name": "python",
   "nbconvert_exporter": "python",
   "pygments_lexer": "ipython3",
   "version": "3.6.5"
  }
 },
 "nbformat": 4,
 "nbformat_minor": 2
}
